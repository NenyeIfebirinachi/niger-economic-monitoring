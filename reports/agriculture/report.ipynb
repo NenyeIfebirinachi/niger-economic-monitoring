{
 "cells": [
  {
   "cell_type": "markdown",
   "metadata": {},
   "source": [
    "# Agriculture in Niger\n",
    "\n",
    "## Request\n",
    "\n",
    "Using NASA remote sensing data, analyze agricultural productivity trends in cropland areas.  \n",
    "\n",
    "For known commercial farms (static extent from LGRIP), analyze crop cycle/productivity over past 5 years (tbc by CO). Figures updated annually. \n",
    "\n",
    "For 2023 (season is June through November), identify total area of farms that have seen relatively consistent historic plantings but do not have observed plantings for 2023 growing season. Method for seasonal updates to be developed at a minimum after 2024 season ends (pending data quality and availability). "
   ]
  },
  {
   "cell_type": "markdown",
   "metadata": {},
   "source": [
    "## Datasets"
   ]
  },
  {
   "cell_type": "markdown",
   "metadata": {},
   "source": [
    "### Cropland Extent\n",
    "\n",
    "We examined different cropland masks for the region, and decided that the layer produced by [Digital Earth Africa in 2021](https://docs.digitalearthafrica.org/en/latest/data_specs/Cropland_extent_specs.html) best represents the recent state of cropland in the Niger. The map has a resultion of 10 meters and was built with Sentinel-2 images fom 2019. They used a Random Forest Classification with ~25K training samples for the continent, achieving an 87.9% accuracy for the Sahel region.\n",
    "\n",
    "Below is an interactive map that visualizes the mask we used, and a comparison with another global layer by [USGS (LGRIP30)](https://lpdaac.usgs.gov/products/lgrip30v001/)."
   ]
  },
  {
   "cell_type": "code",
   "execution_count": 1,
   "metadata": {
    "tags": [
     "remove-cell"
    ]
   },
   "outputs": [],
   "source": [
    "import ee\n",
    "import json, os\n",
    "from dotenv import load_dotenv\n",
    "load_dotenv()\n",
    "ee_creds = {\n",
    "    'type': 'service_account',\n",
    "    'project_id': os.getenv('PROJECT_ID'),\n",
    "    'private_key_id': os.getenv('PRIVATE_KEY_ID'),\n",
    "    'private_key': os.getenv('PRIVATE_KEY'),\n",
    "    'client_email': os.getenv('CLIENT_EMAIL'),\n",
    "    'client_id': os.getenv('CLIENT_ID'),\n",
    "    'auth_uri': 'https://accounts.google.com/o/oauth2/auth',\n",
    "    'token_uri': 'https://oauth2.googleapis.com/token',\n",
    "    'auth_provider_x509_cert_url': 'https://www.googleapis.com/oauth2/v1/certs',\n",
    "    'client_x509_cert_url': os.getenv('CLIENT_X509_CERT_URL')\n",
    "}\n",
    "service_account = 'notebook@food-security-391017.iam.gserviceaccount.com'\n",
    "credentials = ee.ServiceAccountCredentials(service_account, key_data=json.dumps(ee_creds))\n",
    "ee.Initialize(credentials)"
   ]
  },
  {
   "cell_type": "code",
   "execution_count": 2,
   "metadata": {
    "tags": [
     "hide-input"
    ]
   },
   "outputs": [],
   "source": [
    "from geemap.foliumap import Map\n",
    "import requests\n",
    "import geopandas as gpd\n",
    "from geemap.conversion import *\n",
    "from geemap import colormaps\n",
    "\n",
    "# Admin Data\n",
    "adm = 'ADM0'\n",
    "iso3 = 'NER'\n",
    "release_type = 'gbOpen'\n",
    "geo_url = f'https://www.geoboundaries.org/api/current/{release_type}/{iso3}/{adm}/'\n",
    "try:\n",
    "  res = requests.get(geo_url).json()\n",
    "  adm0_ner = gpd.read_file(res['gjDownloadURL'])\n",
    "  # adm0_ner.to_file('../../data/adm0_ner.geojson', driver='GeoJSON')\n",
    "except:\n",
    "  adm0_ner = gpd.read_file('../../data/adm0_ner.geojson')\n",
    "  \n",
    "one = adm0_ner.iloc[[0]]\n",
    "centx, centy = one.centroid.x.iloc[0], one.centroid.y.iloc[0]\n",
    "aoi = gdf_to_ee(adm0_ner)\n",
    "\n",
    "# Crop Masks\n",
    "lgrip30 = ee.ImageCollection(\"projects/sat-io/open-datasets/GFSAD/LGRIP30\").mosaic()\n",
    "crop_data = lgrip30.select('b1').rename('crop').clip(aoi)\n",
    "crop_data_viz = crop_data.mask(crop_data.gt(1))\n",
    "\n",
    "dea = ee.ImageCollection(\"projects/sat-io/open-datasets/DEAF/CROPLAND-EXTENT/mask\").mosaic()\n",
    "crop_data_dea = dea.select('b1').rename('crop').clip(aoi)\n",
    "crop_data_viz_dea = crop_data_dea.mask(crop_data_dea.gt(0))\n",
    "\n",
    "# Viz\n",
    "crop_vis = {\n",
    "    'min': 2,\n",
    "    'max': 3,\n",
    "    'palette': ['#cc0000', '#529400'],\n",
    "    'opacity': 0.75\n",
    "}\n",
    "crop_vis2 = {\n",
    "    'min': 0,\n",
    "    'max': 1,\n",
    "    'palette': ['#529400'],\n",
    "    'opacity': 0.75\n",
    "}\n",
    "pal = colormaps.get_palette('Greens', 10) # Greens BrBG\n",
    "adm_vis = {\n",
    "    'color': '000000',\n",
    "    'width': 1,\n",
    "    'opacity': 0.25\n",
    "}\n",
    "\n",
    "m = Map(center=[centy, centx], zoom=6) # basemap='Esri.WorldImagery'\n",
    "m.add_basemap('Esri.WorldImagery')\n",
    "m.addLayer(crop_data_viz, crop_vis, 'Crop Mask (LGRIP30)') # Green is Rainfed, Red is Irrigated\n",
    "m.addLayer(crop_data_viz_dea, crop_vis2, 'Crop Mask (Digital Earth Africa)') # Green is Rainfed, Red is Irrigated\n",
    "m.addLayer(aoi, adm_vis, 'Country Boundary')\n",
    "m.addLayerControl()\n",
    "m"
   ]
  },
  {
   "cell_type": "markdown",
   "metadata": {},
   "source": [
    "### Crop Area by Region"
   ]
  },
  {
   "cell_type": "code",
   "execution_count": 3,
   "metadata": {
    "tags": [
     "hide-input"
    ]
   },
   "outputs": [],
   "source": [
    "import pandas as pd\n",
    "import json\n",
    "import ast\n",
    "df = pd.read_csv('../../data/adm1_crop_count.csv')\n",
    "\n",
    "def load_dict(input_str):\n",
    "    input_str = input_str.replace('null', \"'null'\")\n",
    "    input_str = input_str.replace('=', ':')\n",
    "    result_dict = ast.literal_eval(input_str)\n",
    "    return(result_dict)\n",
    "\n",
    "df.loc[:, \"histogram\"] = df.apply(lambda x: load_dict(x['histogram']), axis=1)\n",
    "\n",
    "bool_dict = {\n",
    "    0:'non_crop',\n",
    "    1:'crop',\n",
    "}\n",
    "histograms = df['histogram']\n",
    "histograms_dfs = [pd.DataFrame(index=[idx], data=hist_dict) for idx, hist_dict in histograms.items()]\n",
    "histogram_df = pd.concat(histograms_dfs, axis=0).fillna(0)\n",
    "histogram_df.rename(columns=bool_dict, inplace=True)\n",
    "\n",
    "df = df.join(histogram_df)\n",
    "df = df.sort_values(by='crop', ascending=False)\n",
    "df.loc[:, \"Crop Area ha.\"] = ((df['crop'] * 100) / 10000).apply(lambda x: f'{x:,.0f}')\n",
    "df.loc[:, \"Crop Area Share\"] = (df['crop'] / (df['crop'] + df['non_crop'])).apply(lambda x: f'{x:.2%}')\n",
    "df.rename(columns={'ADM1_FR':'Region'}, inplace=True)\n",
    "df[['Region', 'Crop Area ha.', 'Crop Area Share']].reset_index(drop=True)"
   ]
  },
  {
   "cell_type": "markdown",
   "metadata": {},
   "source": [
    "### MODIS\n",
    "We utilize Google Earth Engine to access the Enhanced Vegetation Index (EVI) band from the [MODIS satellite](https://modis.gsfc.nasa.gov/about/). By combining data from [Terra](https://lpdaac.usgs.gov/products/mod13q1v061/) and [Aqua](https://lpdaac.usgs.gov/products/myd13q1v061/), we obtain a map of EVI at 250 meters resolution every 8-days from 2001 to 2024. \n",
    "\n",
    "The enhanced vegetation index (EVI) is an 'optimized' vegetation index designed to enhance the vegetation signal with improved vegetation monitoring through a de-coupling of the canopy background signal and a reduction in atmosphere influences.\n",
    "\n",
    "We apply the necessary data masking steps:\n",
    "1. Mask out bad quality data (shadows/clouds)\n",
    "2. Mask out non-crop areas using the Digital Earth Africa crop layer.\n",
    "\n",
    "Below is an interactive map of EVI data for one timestep (2023-09-01)"
   ]
  },
  {
   "cell_type": "code",
   "execution_count": 4,
   "metadata": {
    "tags": [
     "hide-input"
    ]
   },
   "outputs": [],
   "source": [
    "# MODIS\n",
    "start_period = ee.Date('2001-01-01')\n",
    "end_period = ee.Date('2024-01-01')\n",
    "terra = ee.ImageCollection('MODIS/061/MOD13Q1') \\\n",
    "    .select(['EVI','SummaryQA','DetailedQA'])   \\\n",
    "    .filterDate(start_period, end_period)\n",
    "aqua = ee.ImageCollection('MODIS/061/MYD13Q1')  \\\n",
    "    .select(['EVI','SummaryQA','DetailedQA'])   \\\n",
    "    .filterDate(start_period, end_period)\n",
    "modis = terra.select('EVI').merge(aqua.select('EVI'))\n",
    "modis = modis.sort(\"system:time_start\")\n",
    "def bitwiseExtract(value, fromBit, toBit=None):\n",
    "  if (toBit == None):\n",
    "    toBit = fromBit\n",
    "  maskSize = ee.Number(1).add(toBit).subtract(fromBit)\n",
    "  mask = ee.Number(1).leftShift(maskSize).subtract(1)\n",
    "  return value.rightShift(fromBit).bitwiseAnd(mask)\n",
    "# Applying the SummaryQA  and DetailedQA\n",
    "def modisQA_mask(image):\n",
    "  sqa = image.select('SummaryQA')\n",
    "  dqa = image.select('DetailedQA')\n",
    "  viQualityFlagsS = bitwiseExtract(sqa, 0, 1)\n",
    "  viQualityFlagsD = bitwiseExtract(dqa, 0, 1)\n",
    "  # viUsefulnessFlagsD = bitwiseExtract(dqa, 2, 5)\n",
    "  viSnowIceFlagsD = bitwiseExtract(dqa, 14)\n",
    "  viShadowFlagsD = bitwiseExtract(dqa, 15)\n",
    "  # Good data, use with confidence\n",
    "  mask = viQualityFlagsS.eq(0)  \\\n",
    "    .And(viQualityFlagsD.eq(0)) \\\n",
    "    .And(viQualityFlagsS.eq(1)) \\\n",
    "    .And(viQualityFlagsD.eq(1)) \\\n",
    "    .And(viSnowIceFlagsD).eq(0); \n",
    "    # .And(viShadowFlagsD).eq(0); # No shadow\n",
    "  return image.updateMask(mask)\n",
    "mod13q1_QC = terra.map(modisQA_mask)\n",
    "myd13q1_QC = aqua.map(modisQA_mask)\n",
    "mxd13q1_cleaned = mod13q1_QC.select('EVI').merge(myd13q1_QC.select('EVI'))\n",
    "mxd13q1_cleaned_sorted = mxd13q1_cleaned.sort(\"system:time_start\")\n",
    "\n",
    "scale_factor=0.0001\n",
    "crop_data2 = dea.select('b1').gt(0).rename('crop')\n",
    "def cropmask(img):\n",
    "  return img.updateMask(crop_data2).clip(aoi) #.multiply(scale_factor) # unmask(-1)\n",
    "mxd13q1 = mxd13q1_cleaned_sorted.map(cropmask)\n",
    "img = mxd13q1.filterDate('2023-09-01', '2023-10-01').select('EVI').first().multiply(scale_factor)\n",
    "\n",
    "# Viz\n",
    "pal = colormaps.get_palette('Greens', 10) # Greens BrBG\n",
    "evi_vis = {\n",
    "    'min': 0.1,\n",
    "    'max': 0.4,\n",
    "    'palette': pal\n",
    "}\n",
    "adm_vis = {\n",
    "    'color': '000000',\n",
    "    'width': 1,\n",
    "    'opacity': 0.25\n",
    "}\n",
    "\n",
    "m = Map(center=[centy, centx], zoom=6) # basemap='Esri.WorldImagery'\n",
    "m.add_basemap('Esri.WorldImagery')\n",
    "m.addLayer(aoi, adm_vis, 'Country Boundary')\n",
    "m.addLayer(img, evi_vis, 'EVI One Time Step (2023-09-01)')\n",
    "m.add_colorbar(evi_vis, label=\"Enhanced Vegetation Index (EVI)\")\n",
    "m.addLayerControl()\n",
    "m"
   ]
  },
  {
   "cell_type": "markdown",
   "metadata": {},
   "source": [
    "## Methodology"
   ]
  },
  {
   "cell_type": "markdown",
   "metadata": {},
   "source": [
    "### Crop Seasonality\n",
    "Using this time series dataset of EVI images, we apply several pre-processing steps to extract critical phenological parameters: start of season (SOS), middle of season (MOS), end of season (EOS), length of season (LOS), etc. This workflow is heavily inspired by the [TIMESAT](https://web.nateko.lu.se/timesat/timesat.asp) software, although in this implementation we use the [Phenolopy](https://github.com/frontiersi/phenolopy/tree/main) open-source package.  \n",
    "\n",
    "**Pre-processing steps**  \n",
    "1. Remove outliers from dataset on per-pixel basis using median method: outlier if median from a moving window < or > standard deviation of time-series times 2.\n",
    "2. Interpolate missing values linearly\n",
    "3. Smooth data on per-pixel basis (using Savitsky Golay filter, window length of 3, and polyorder of 1)  \n",
    "\n",
    "**Phenology Process**  \n",
    "We then extract crop seasonality metrics using the seasonal amplitude method from the phenolopy package. \n",
    "\n",
    "The chart below shows the result of this process for a single crop pixel. The green dots represent the raw EVI values, the black line represents the processed EVI values, and the red dotted lines represent season parameters extracted for that pixel: start of season, peak of season, and end of season."
   ]
  },
  {
   "cell_type": "markdown",
   "metadata": {},
   "source": [
    "![chart](./charts/evi-phenology.jpeg)"
   ]
  },
  {
   "cell_type": "markdown",
   "metadata": {},
   "source": [
    "### Anomalies\n",
    "The seasonality parameters extracted confirm the crop calendar provided by [FAO's Global Information and Early Warning System](https://www.fao.org/giews/countrybrief/country.jsp?code=NER&lang=en), highlighting September as the peak month for the growing season. In order to estimate changes in agricultural productivity for a given year, we compare the monthly EVI value for September (median) against a historical baseline with 10 years of data (2004 through 2018).\n",
    "\n",
    "There are different approaches to calculate a deviation from a reference baseline, we express it as a z-score deviation.\n",
    "\n",
    "\n",
    "**Z-Score Calculation**  \n",
    "\n",
    "The anomaly is calculated based on difference from the average and standard deviation.\n",
    "\n",
    "$$\n",
    "\\text{anomaly z-score} = \\frac{{\\text{evi}} - \\text{mean_evi}}{\\text{std_evi}}\n",
    "$$"
   ]
  },
  {
   "cell_type": "markdown",
   "metadata": {},
   "source": [
    "## Results"
   ]
  },
  {
   "cell_type": "markdown",
   "metadata": {},
   "source": [
    "### Map of Anomalies 2023\n",
    "\n",
    "The map below shows pixel-level EVI anomalies from the latest season (2023). The green areas are pixels where agricultural conditions have been more favorable than in recent history, whereas the darker brown areas are pixels where agricultural outcomes are likely worse than average.  \n",
    "\n",
    "Overall, we observe favorable z-scores in 2023, meaning our proxy for agricultural productivity is higher than baseline conditions. Note that further analysis of rainfall and official yields data is needed to corroborate this conclusion. We also observe hotspots of productivity decline, particularly in Dosso and Tillaberi."
   ]
  },
  {
   "cell_type": "markdown",
   "metadata": {},
   "source": [
    "![map](./charts/map-anomalies.jpg)"
   ]
  },
  {
   "cell_type": "code",
   "execution_count": 6,
   "metadata": {
    "tags": [
     "remove-cell"
    ]
   },
   "outputs": [
    {
     "data": {
      "text/html": [
       "\n",
       "            <style>\n",
       "                .geemap-dark {\n",
       "                    --jp-widgets-color: white;\n",
       "                    --jp-widgets-label-color: white;\n",
       "                    --jp-ui-font-color1: white;\n",
       "                    --jp-layout-color2: #454545;\n",
       "                    background-color: #383838;\n",
       "                }\n",
       "                    \n",
       "                .geemap-dark .jupyter-button {\n",
       "                    --jp-layout-color3: #383838;\n",
       "                }\n",
       "                \n",
       "                .geemap-colab {\n",
       "                    background-color: var(--colab-primary-surface-color, white);\n",
       "                }\n",
       "                    \n",
       "                .geemap-colab .jupyter-button {\n",
       "                    --jp-layout-color3: var(--colab-primary-surface-color, white);\n",
       "                }\n",
       "            </style>\n",
       "            "
      ],
      "text/plain": [
       "<IPython.core.display.HTML object>"
      ]
     },
     "metadata": {},
     "output_type": "display_data"
    }
   ],
   "source": [
    "# from os.path import join, expanduser\n",
    "# import numpy as np\n",
    "# import leafmap.foliumap as leafmap\n",
    "# import rasterio as rio\n",
    "# zscore = join(expanduser('~'), 'Downloads', 'zcore_dea_2023_09.tif')\n",
    "\n",
    "# # src = rio.open(zscore)\n",
    "# # data = src.read(1)\n",
    "# # data[np.isnan(data)] = 0\n",
    "# # remask_image = leafmap.array_to_image(data, source=zscore)\n",
    "\n",
    "# # Viz\n",
    "# pal = colormaps.get_palette('BrBG', 10) # Greens BrBG\n",
    "# zscore_vis = {\n",
    "#     'min': -3,\n",
    "#     'max': 3,\n",
    "#     'palette': pal\n",
    "# }\n",
    "# evi_vis = {\n",
    "#     'min': 0.1,\n",
    "#     'max': 0.4,\n",
    "#     'palette': pal\n",
    "# }\n",
    "# adm_vis = {\n",
    "#     'color': '000000',\n",
    "#     'width': 1,\n",
    "#     'opacity': 0.25\n",
    "# }\n",
    "\n",
    "# m = leafmap.Map()\n",
    "# m.add_basemap('Esri.WorldImagery')\n",
    "# # m.add_raster(remask_image, palette='BrBG', nodata=0, vmin=-3, vmax=3, layer_name='Z-Score Anomaly (2023-09)')\n",
    "# m.add_raster(zscore, palette='BrBG', nodata=np.nan, vmin=-3, vmax=3, layer_name='Z-Score Anomaly (2023-09)')\n",
    "# m.set_center(lon=centx, lat=centy, zoom=6)\n",
    "# m.add_layer_control()\n",
    "# m"
   ]
  },
  {
   "cell_type": "markdown",
   "metadata": {},
   "source": [
    "### Aggregate Shares by Productivity"
   ]
  },
  {
   "cell_type": "markdown",
   "metadata": {},
   "source": [
    "We run the same analysis for the previous 5 seasons, and aggregate the number of pixels according to different z-score buckets. The range of -0.5 to 0.5 signifies normal or average conditions. The shares above 0.5 signify greater than average conditions, whereas less than 0.5 signify worse conditions.\n",
    "\n",
    "Overall there is a positive trend in agricultural conditions relative to the past ten years. In 2023 most areas fall under positive anomalies, 2022 had more areas in favorable conditions."
   ]
  },
  {
   "cell_type": "markdown",
   "metadata": {},
   "source": [
    "![chart1](./charts/evi-anomalies-pct.jpeg)"
   ]
  },
  {
   "cell_type": "markdown",
   "metadata": {},
   "source": [
    "### Median Agricultural Productivity by Province"
   ]
  },
  {
   "cell_type": "markdown",
   "metadata": {},
   "source": [
    "In the plot below, we aggregate the median EVI value for each region and compare that with the historical average (gray dotted line). Most provinces show productivity trends close or slightly above the baseline for 2023, except for Diffa and Dosso where the median trend is below the baseline."
   ]
  },
  {
   "cell_type": "markdown",
   "metadata": {},
   "source": [
    "![chart2](./charts/evi-median-region.jpeg)"
   ]
  },
  {
   "cell_type": "markdown",
   "metadata": {},
   "source": [
    "## Crop Classification\n",
    "With the objective of creating crop extent maps for different years, we ran a classification model using the EVI time series and crop seasonality parameters (250 meter resolution). We trained the model by selecting data for crop polygons from [Digital Earth Africa](https://docs.digitalearthafrica.org/en/latest/data_specs/Cropland_extent_specs.html#Training-and-Validation-data), resulting in a training dataset of ~500 areas and 18 features (EVI-derived crop season parameters).   \n",
    "\n",
    "We used a Random Forest Classifier and validated the method on a test dataset (20% of training data not used in the model). Although the method was able to identify crops from the test dataset, the R-squared was quite low meaning the model is not fit for general use yet. \n",
    "\n",
    "**Accuracy of the Model**:  0.809  \n",
    "**R-Squared**:  0.227  \n",
    "\n",
    "See more details in [notebook](evi-classification.ipynb)."
   ]
  },
  {
   "cell_type": "markdown",
   "metadata": {},
   "source": [
    "## Outlook for 2024\n",
    "Despite the favorable vegetation conditions in 2023, food security agencies are projecting large food security shocks across Niger in 2024. The key factors are increasing food prices and market disruptions due to insecurity and sociopolitical factors. An in-depth analysis can be found from the [FEWS NET Food Security Outlook Februrary 2024](https://fews.net/west-africa/niger/food-security-outlook/february-2024)"
   ]
  },
  {
   "cell_type": "markdown",
   "metadata": {},
   "source": [
    "### Food Security IPC Classification \n",
    "Source: FEWS NET"
   ]
  },
  {
   "cell_type": "markdown",
   "metadata": {},
   "source": [
    "![Niger_2024-02-01_ML1.png](./charts/Niger_2024-04-01_ML1.png)"
   ]
  }
 ],
 "metadata": {
  "kernelspec": {
   "display_name": "Python 3 (ipykernel)",
   "language": "python",
   "name": "python3"
  },
  "language_info": {
   "codemirror_mode": {
    "name": "ipython",
    "version": 3
   },
   "file_extension": ".py",
   "mimetype": "text/x-python",
   "name": "python",
   "nbconvert_exporter": "python",
   "pygments_lexer": "ipython3",
   "version": "3.11.5"
  },
  "metadata": {
   "mystnb": {
    "execution_mode": "force"
   }
  }
 },
 "nbformat": 4,
 "nbformat_minor": 2
}
